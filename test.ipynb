{
 "cells": [
  {
   "cell_type": "code",
   "execution_count": 1,
   "metadata": {},
   "outputs": [],
   "source": [
    "\"\"\"\n",
    "ce_net.py\n",
    "--------------------\n",
    "Genetic algorithm to find effective information in coarse grained networks\n",
    "\n",
    "author: Julian Amacker\n",
    "email: julian.amacker at gmail dot com\n",
    "\"\"\"\n",
    "import networkx as nx\n",
    "import numpy as np\n",
    "from ei_net.ei_net import *\n",
    "from ei_net.ce_net import *"
   ]
  },
  {
   "cell_type": "code",
   "execution_count": 2,
   "metadata": {},
   "outputs": [],
   "source": [
    "TPM = np.array([[0.0, 0.0, 0.0, 0.5, 0.5],\n",
    "                [1/3, 0.0, 1/3, 1/3, 0.0],\n",
    "                [0.0, 0.5, 0.0, 0.5, 0.0],\n",
    "                [0.0, 0.0, 0.0, 0.0, 1.0],\n",
    "                [0.5, 0.0, 0.0, 0.5, 0.0]])\n",
    "\n",
    "Copy_Copy = np.array([[1.0, 0.0, 0.0, 0.0],\n",
    "                      [0.0, 0.0, 1.0, 0.0],\n",
    "                      [0.0, 1.0, 0.0, 0.0],\n",
    "                      [0.0, 0.0, 0.0, 1.0]])\n",
    "\n",
    "catbraiNX = nx.read_edgelist('/Users/julian/Downloads/bn-cat-mixed-species_brain_1/bn/bn-cat-mixed-species_brain_1.edges')\n",
    "catbrain = nx.to_numpy_array(catbraiNX)"
   ]
  },
  {
   "cell_type": "code",
   "execution_count": null,
   "metadata": {},
   "outputs": [],
   "source": []
  }
 ],
 "metadata": {
  "kernelspec": {
   "display_name": "Python 3",
   "language": "python",
   "name": "python3"
  },
  "language_info": {
   "codemirror_mode": {
    "name": "ipython",
    "version": 3
   },
   "file_extension": ".py",
   "mimetype": "text/x-python",
   "name": "python",
   "nbconvert_exporter": "python",
   "pygments_lexer": "ipython3",
   "version": "3.7.5"
  }
 },
 "nbformat": 4,
 "nbformat_minor": 4
}
